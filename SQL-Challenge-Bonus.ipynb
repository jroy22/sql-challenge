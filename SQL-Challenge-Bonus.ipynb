{
 "cells": [
  {
   "cell_type": "code",
   "execution_count": null,
   "metadata": {},
   "outputs": [],
   "source": [
    "# Import Dependencies\n",
    "import pandas as pd\n",
    "import matplotlib.pyplot as plt\n",
    "import numpy as np\n",
    "from sqlalchemy import create_engine\n",
    "from config import (user, password, host, port, database)"
   ]
  },
  {
   "cell_type": "code",
   "execution_count": null,
   "metadata": {},
   "outputs": [],
   "source": [
    "#Connecting to the Database \n",
    "engine = create_engine(f'postgresql://{user}:{password}@{host}:{port}/{database}')\n",
    "connection = engine.connect()"
   ]
  },
  {
   "cell_type": "code",
   "execution_count": null,
   "metadata": {},
   "outputs": [],
   "source": [
    "# Creating an dataframe from employees table on database\n",
    "employees_df = pd.read_sql(\"SELECT * FROM employees\", connection)\n",
    "\n",
    "# Renaming column name to match the Title DataFrame\n",
    "employees_df = employees_df.rename(columns={\"emp_title_id\" : \"title_id\"})\n",
    "\n",
    "# Creating an dataframe from salaries table on database\n",
    "salaries_df = pd.read_sql(\"SELECT * FROM salaries\", connection)\n",
    "\n",
    "# Creating an dataframe from salaries table on database\n",
    "titles_df = pd.read_sql(\"SELECT * FROM titles\", connection)"
   ]
  },
  {
   "cell_type": "code",
   "execution_count": null,
   "metadata": {
    "scrolled": true
   },
   "outputs": [],
   "source": [
    "# Create a histogram to visualize the most common salary ranges for employees\n",
    "salary = salaries_df['salary']\n",
    "\n",
    "# Labeling graph\n",
    "plt.hist(salary)\n",
    "plt.xlabel(\"Salary Ranges\")\n",
    "plt.ylabel(\"Number of Employees\")\n",
    "plt.title(\"Salary Distribution\")\n",
    "plt.grid(alpha = .25)\n",
    "plt.show()"
   ]
  },
  {
   "cell_type": "code",
   "execution_count": null,
   "metadata": {},
   "outputs": [],
   "source": [
    "#Merge Employees and Salary DataFrame\n",
    "emp_sal_df = pd.merge(employees_df, salaries_df, on = 'emp_no')\n",
    "\n",
    "#Merge emp_sal_df and titles_df DataFrame\n",
    "emp_titles_sal_df = pd.merge(emp_sal_df, titles_df, on = 'title_id')"
   ]
  },
  {
   "cell_type": "code",
   "execution_count": null,
   "metadata": {},
   "outputs": [],
   "source": [
    "#Group By Titles\n",
    "group_title = emp_titles_sal_df.groupby([\"title\"])\n",
    "\n",
    "#To get titles\n",
    "titles = sorted(titles_df['title'].unique())\n",
    "\n",
    "#To get the average salaries\n",
    "avg_salary = group_title['salary'].mean()"
   ]
  },
  {
   "cell_type": "code",
   "execution_count": null,
   "metadata": {},
   "outputs": [],
   "source": [
    "#Create a bar chart of average salary by title.\n",
    "plt.bar(titles, avg_salary, align = \"center\", color = \"gold\", edgecolor =\"black\")\n",
    "\n",
    "# Labeling graph\n",
    "plt.title(\"Average Salary by Job Title\")\n",
    "plt.xlabel(\"Job Title\")\n",
    "plt.ylabel(\"Average Salary\")\n",
    "plt.xticks(rotation = 90)\n",
    "plt.show()"
   ]
  },
  {
   "cell_type": "code",
   "execution_count": null,
   "metadata": {},
   "outputs": [],
   "source": [
    "#Search for your ID number: 499942\n",
    "my_id = 499942\n",
    "my_info = emp_titles_sal_df.loc[emp_titles_sal_df[\"emp_no\"] == my_id, :]\n",
    "my_info"
   ]
  },
  {
   "cell_type": "code",
   "execution_count": null,
   "metadata": {},
   "outputs": [],
   "source": []
  }
 ],
 "metadata": {
  "kernelspec": {
   "display_name": "Python 3",
   "language": "python",
   "name": "python3"
  },
  "language_info": {
   "codemirror_mode": {
    "name": "ipython",
    "version": 3
   },
   "file_extension": ".py",
   "mimetype": "text/x-python",
   "name": "python",
   "nbconvert_exporter": "python",
   "pygments_lexer": "ipython3",
   "version": "3.6.10"
  }
 },
 "nbformat": 4,
 "nbformat_minor": 4
}
